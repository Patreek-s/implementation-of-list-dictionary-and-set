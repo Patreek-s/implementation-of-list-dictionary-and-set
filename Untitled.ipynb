{
 "cells": [
  {
   "cell_type": "code",
   "execution_count": 3,
   "id": "fbd9e71d-a55b-434d-b8b2-1b8c61e8bcdf",
   "metadata": {},
   "outputs": [
    {
     "name": "stdout",
     "output_type": "stream",
     "text": [
      "Updated list: [1, 9, 4, 6, 5]\n"
     ]
    }
   ],
   "source": [
    "#creating list\n",
    "List = [1, 2, 4, 'For', 6]\n",
    "\n",
    "#adding element\n",
    "List.append(5)\n",
    "\n",
    "#removing element\n",
    "List.remove('For')\n",
    "\n",
    "#modifying list\n",
    "List[1] = 9\n",
    "\n",
    "print(\"Updated list:\",List)"
   ]
  },
  {
   "cell_type": "code",
   "execution_count": 5,
   "id": "6d0b0dd1-4cbe-4e23-b3ce-bc5e794f2c75",
   "metadata": {},
   "outputs": [
    {
     "name": "stdout",
     "output_type": "stream",
     "text": [
      "Updated set: {2, 3, 4, 5, 6}\n"
     ]
    }
   ],
   "source": [
    "#creating set\n",
    "Set = {1, 2, 3, 4, 7, 6}\n",
    "\n",
    "#adding element\n",
    "Set.add(5)\n",
    "\n",
    "#removing element\n",
    "Set.remove(7)\n",
    "\n",
    "#modifying \n",
    "Set.discard(1)\n",
    "\n",
    "print(\"Updated set:\",Set)"
   ]
  },
  {
   "cell_type": "code",
   "execution_count": 6,
   "id": "ffd39872-46a1-4a3b-a72e-91170fa4f84b",
   "metadata": {},
   "outputs": [
    {
     "name": "stdout",
     "output_type": "stream",
     "text": [
      "Updated Dictionary: {'model': 'Rolls Royce', 'year': 1969, 'price': 'Rs.80,00,000'}\n"
     ]
    }
   ],
   "source": [
    "#creating dictionary\n",
    "Dict = {\"brand\": \"Ford\",\"model\": \"Mustang\",\"year\": 1969}\n",
    "\n",
    "#adding element\n",
    "Dict['price'] = 'Rs.80,00,000'\n",
    "\n",
    "#removing element\n",
    "del Dict['brand']\n",
    "\n",
    "#modifying \n",
    "Dict['model'] = 'Rolls Royce'\n",
    "\n",
    "print(\"Updated Dictionary:\",Dict)"
   ]
  }
 ],
 "metadata": {
  "kernelspec": {
   "display_name": "Python 3 (ipykernel)",
   "language": "python",
   "name": "python3"
  },
  "language_info": {
   "codemirror_mode": {
    "name": "ipython",
    "version": 3
   },
   "file_extension": ".py",
   "mimetype": "text/x-python",
   "name": "python",
   "nbconvert_exporter": "python",
   "pygments_lexer": "ipython3",
   "version": "3.12.3"
  }
 },
 "nbformat": 4,
 "nbformat_minor": 5
}
